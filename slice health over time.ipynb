{
 "cells": [
  {
   "cell_type": "code",
   "execution_count": 13,
   "metadata": {},
   "outputs": [],
   "source": [
    "import pandas as pd                 # dataframes (can plot)\n",
    "\n",
    "import numpy as np                  # arrays and math (can plot)\n",
    "\n",
    "import matplotlib.pyplot as plt     # general plotting library\n",
    "\n",
    "import seaborn as sns               # advanced plotting library\n",
    "\n",
    "from datetime import datetime\n",
    "import xlrd\n",
    "\n",
    "\n",
    "%matplotlib inline"
   ]
  },
  {
   "cell_type": "code",
   "execution_count": 49,
   "metadata": {},
   "outputs": [
    {
     "data": {
      "text/html": [
       "<div>\n",
       "<style>\n",
       "    .dataframe thead tr:only-child th {\n",
       "        text-align: right;\n",
       "    }\n",
       "\n",
       "    .dataframe thead th {\n",
       "        text-align: left;\n",
       "    }\n",
       "\n",
       "    .dataframe tbody tr th {\n",
       "        vertical-align: top;\n",
       "    }\n",
       "</style>\n",
       "<table border=\"1\" class=\"dataframe\">\n",
       "  <thead>\n",
       "    <tr style=\"text-align: right;\">\n",
       "      <th></th>\n",
       "      <th>day</th>\n",
       "      <th>prep_name</th>\n",
       "      <th>first_time</th>\n",
       "      <th>last_time</th>\n",
       "      <th>mean_health</th>\n",
       "      <th>slice_success_rate</th>\n",
       "      <th>wov_fraction</th>\n",
       "      <th>uneven_fraction</th>\n",
       "      <th>damaged_fraction</th>\n",
       "      <th>attempt_count</th>\n",
       "      <th>user</th>\n",
       "      <th>rig</th>\n",
       "      <th>acsf_date</th>\n",
       "      <th>slice_name</th>\n",
       "    </tr>\n",
       "  </thead>\n",
       "  <tbody>\n",
       "    <tr>\n",
       "      <th>0</th>\n",
       "      <td>2017-11-10</td>\n",
       "      <td>357183</td>\n",
       "      <td>10:30</td>\n",
       "      <td>10:48</td>\n",
       "      <td>4.000000</td>\n",
       "      <td>0.333333</td>\n",
       "      <td>0.0</td>\n",
       "      <td>0.0</td>\n",
       "      <td>0.333333</td>\n",
       "      <td>3</td>\n",
       "      <td>aarono, lindsayn</td>\n",
       "      <td>2, 7</td>\n",
       "      <td>2017-11-09</td>\n",
       "      <td>Nkx2-1-CreERT2;Ai14-357183.05.02, Nkx2-1-CreER...</td>\n",
       "    </tr>\n",
       "    <tr>\n",
       "      <th>1</th>\n",
       "      <td>2017-11-10</td>\n",
       "      <td>357672</td>\n",
       "      <td>10:53</td>\n",
       "      <td>13:23</td>\n",
       "      <td>2.000000</td>\n",
       "      <td>0.750000</td>\n",
       "      <td>1.0</td>\n",
       "      <td>0.0</td>\n",
       "      <td>0.000000</td>\n",
       "      <td>3</td>\n",
       "      <td>lindsayn</td>\n",
       "      <td>7</td>\n",
       "      <td>2017-11-09</td>\n",
       "      <td>Nos1-CreERT2;Sst-IRES-FlpO;Ai65-357672.04.01, ...</td>\n",
       "    </tr>\n",
       "    <tr>\n",
       "      <th>2</th>\n",
       "      <td>2017-11-10</td>\n",
       "      <td>357932</td>\n",
       "      <td>13:16</td>\n",
       "      <td>15:02</td>\n",
       "      <td>2.375000</td>\n",
       "      <td>0.625000</td>\n",
       "      <td>0.5</td>\n",
       "      <td>0.0</td>\n",
       "      <td>0.000000</td>\n",
       "      <td>8</td>\n",
       "      <td>lisak, lindsayn</td>\n",
       "      <td>4, 7</td>\n",
       "      <td>2017-11-09</td>\n",
       "      <td>Sst-IRES-Cre;Ai14-357932.03.02, Sst-IRES-Cre;A...</td>\n",
       "    </tr>\n",
       "    <tr>\n",
       "      <th>3</th>\n",
       "      <td>2017-11-13</td>\n",
       "      <td>358733</td>\n",
       "      <td>09:41</td>\n",
       "      <td>14:46</td>\n",
       "      <td>2.733333</td>\n",
       "      <td>0.583333</td>\n",
       "      <td>0.4</td>\n",
       "      <td>0.0</td>\n",
       "      <td>0.000000</td>\n",
       "      <td>14</td>\n",
       "      <td>aarono, dijonh, lindsayn, rustym</td>\n",
       "      <td>3, 2, 4, 7</td>\n",
       "      <td>2017-11-08, 2017-11-09, 2017-11-13, 2017-11-10</td>\n",
       "      <td>Vip-IRES-Cre;Ai14-358733.0.03.01, Vip-IRES-Cre...</td>\n",
       "    </tr>\n",
       "    <tr>\n",
       "      <th>4</th>\n",
       "      <td>2017-11-13</td>\n",
       "      <td>358945</td>\n",
       "      <td>11:03</td>\n",
       "      <td>14:03</td>\n",
       "      <td>3.200000</td>\n",
       "      <td>0.800000</td>\n",
       "      <td>0.4</td>\n",
       "      <td>0.0</td>\n",
       "      <td>0.000000</td>\n",
       "      <td>7</td>\n",
       "      <td>dijonh, aarono, ramr, lisak</td>\n",
       "      <td>2, 5, 4, 6</td>\n",
       "      <td>2017-11-08, 2017-11-09</td>\n",
       "      <td>Scnn1a-Tg2-Cre;Ai14-358945.0.03.01, Scnn1a-Tg2...</td>\n",
       "    </tr>\n",
       "  </tbody>\n",
       "</table>\n",
       "</div>"
      ],
      "text/plain": [
       "          day prep_name first_time last_time  mean_health  slice_success_rate  \\\n",
       "0  2017-11-10    357183      10:30     10:48     4.000000            0.333333   \n",
       "1  2017-11-10    357672      10:53     13:23     2.000000            0.750000   \n",
       "2  2017-11-10    357932      13:16     15:02     2.375000            0.625000   \n",
       "3  2017-11-13    358733      09:41     14:46     2.733333            0.583333   \n",
       "4  2017-11-13    358945      11:03     14:03     3.200000            0.800000   \n",
       "\n",
       "   wov_fraction  uneven_fraction  damaged_fraction  attempt_count  \\\n",
       "0           0.0              0.0          0.333333              3   \n",
       "1           1.0              0.0          0.000000              3   \n",
       "2           0.5              0.0          0.000000              8   \n",
       "3           0.4              0.0          0.000000             14   \n",
       "4           0.4              0.0          0.000000              7   \n",
       "\n",
       "                               user         rig  \\\n",
       "0                  aarono, lindsayn        2, 7   \n",
       "1                          lindsayn           7   \n",
       "2                   lisak, lindsayn        4, 7   \n",
       "3  aarono, dijonh, lindsayn, rustym  3, 2, 4, 7   \n",
       "4       dijonh, aarono, ramr, lisak  2, 5, 4, 6   \n",
       "\n",
       "                                        acsf_date  \\\n",
       "0                                      2017-11-09   \n",
       "1                                      2017-11-09   \n",
       "2                                      2017-11-09   \n",
       "3  2017-11-08, 2017-11-09, 2017-11-13, 2017-11-10   \n",
       "4                          2017-11-08, 2017-11-09   \n",
       "\n",
       "                                          slice_name  \n",
       "0  Nkx2-1-CreERT2;Ai14-357183.05.02, Nkx2-1-CreER...  \n",
       "1  Nos1-CreERT2;Sst-IRES-FlpO;Ai65-357672.04.01, ...  \n",
       "2  Sst-IRES-Cre;Ai14-357932.03.02, Sst-IRES-Cre;A...  \n",
       "3  Vip-IRES-Cre;Ai14-358733.0.03.01, Vip-IRES-Cre...  \n",
       "4  Scnn1a-Tg2-Cre;Ai14-358945.0.03.01, Scnn1a-Tg2...  "
      ]
     },
     "execution_count": 49,
     "metadata": {},
     "output_type": "execute_result"
    }
   ],
   "source": [
    "df = pd.read_excel('C:\\\\Users\\\\dijonh\\\\Desktop\\\\slice_health\\\\171110_180228_ps_slicehealth_report.xlsx', sheetname=0)\n",
    "df.head()"
   ]
  },
  {
   "cell_type": "code",
   "execution_count": 50,
   "metadata": {},
   "outputs": [
    {
     "data": {
      "text/plain": [
       "(217, 14)"
      ]
     },
     "execution_count": 50,
     "metadata": {},
     "output_type": "execute_result"
    }
   ],
   "source": [
    "df.shape"
   ]
  },
  {
   "cell_type": "code",
   "execution_count": 99,
   "metadata": {},
   "outputs": [
    {
     "data": {
      "text/html": [
       "<div>\n",
       "<style>\n",
       "    .dataframe thead tr:only-child th {\n",
       "        text-align: right;\n",
       "    }\n",
       "\n",
       "    .dataframe thead th {\n",
       "        text-align: left;\n",
       "    }\n",
       "\n",
       "    .dataframe tbody tr th {\n",
       "        vertical-align: top;\n",
       "    }\n",
       "</style>\n",
       "<table border=\"1\" class=\"dataframe\">\n",
       "  <thead>\n",
       "    <tr style=\"text-align: right;\">\n",
       "      <th></th>\n",
       "      <th>day</th>\n",
       "      <th>prep_name</th>\n",
       "      <th>first_time</th>\n",
       "      <th>last_time</th>\n",
       "      <th>mean_health</th>\n",
       "    </tr>\n",
       "  </thead>\n",
       "  <tbody>\n",
       "    <tr>\n",
       "      <th>212</th>\n",
       "      <td>2018-02-28</td>\n",
       "      <td>376205</td>\n",
       "      <td>09:44</td>\n",
       "      <td>10:50</td>\n",
       "      <td>2.333333</td>\n",
       "    </tr>\n",
       "    <tr>\n",
       "      <th>213</th>\n",
       "      <td>2018-02-28</td>\n",
       "      <td>377316</td>\n",
       "      <td>10:26</td>\n",
       "      <td>12:28</td>\n",
       "      <td>2.266667</td>\n",
       "    </tr>\n",
       "    <tr>\n",
       "      <th>214</th>\n",
       "      <td>2018-02-28</td>\n",
       "      <td>377300</td>\n",
       "      <td>13:13</td>\n",
       "      <td>14:20</td>\n",
       "      <td>2.533333</td>\n",
       "    </tr>\n",
       "    <tr>\n",
       "      <th>215</th>\n",
       "      <td>2018-02-28</td>\n",
       "      <td>376996</td>\n",
       "      <td>15:01</td>\n",
       "      <td>15:14</td>\n",
       "      <td>2.333333</td>\n",
       "    </tr>\n",
       "    <tr>\n",
       "      <th>216</th>\n",
       "      <td>2018-02-28</td>\n",
       "      <td>378475</td>\n",
       "      <td>17:11</td>\n",
       "      <td>17:11</td>\n",
       "      <td>4.000000</td>\n",
       "    </tr>\n",
       "  </tbody>\n",
       "</table>\n",
       "</div>"
      ],
      "text/plain": [
       "            day prep_name first_time last_time  mean_health\n",
       "212  2018-02-28    376205      09:44     10:50     2.333333\n",
       "213  2018-02-28    377316      10:26     12:28     2.266667\n",
       "214  2018-02-28    377300      13:13     14:20     2.533333\n",
       "215  2018-02-28    376996      15:01     15:14     2.333333\n",
       "216  2018-02-28    378475      17:11     17:11     4.000000"
      ]
     },
     "execution_count": 99,
     "metadata": {},
     "output_type": "execute_result"
    }
   ],
   "source": [
    "df = pd.read_excel('C:\\\\Users\\\\dijonh\\\\Desktop\\\\slice_health\\\\171110_180228_ps_slicehealth_report.xlsx', sheetname=0, \n",
    "parse_cols=4)\n",
    "df.tail()"
   ]
  },
  {
   "cell_type": "code",
   "execution_count": 93,
   "metadata": {
    "scrolled": true
   },
   "outputs": [
    {
     "name": "stdout",
     "output_type": "stream",
     "text": [
      "Current size [6.0, 4.0]\n"
     ]
    },
    {
     "data": {
      "image/png": "[encoded data removed]",
      "text/plain": [
       "<matplotlib.figure.Figure at 0xd691eb8>"
      ]
     },
     "metadata": {},
     "output_type": "display_data"
    }
   ],
   "source": [
    "plt.plot_date(df['day'], df['mean_health'])\n",
    "plt.title(\"Prep summary\")\n",
    "plt.xlabel(\"Day\")\n",
    "plt.xticks(rotation=20)\n",
    "marker_size=20\n",
    "\n",
    "#change size\n",
    "fig_size = plt.rcParams[\"figure.figsize\"]\n",
    "print \"Current size\", fig_size\n",
    "fig_size[0] = 6\n",
    "fig_size[1] = 4\n",
    "plt.rcParams[\"figure.figsize\"] = fig_size"
   ]
  },
  {
   "cell_type": "code",
   "execution_count": 97,
   "metadata": {
    "scrolled": true
   },
   "outputs": [
    {
     "data": {
      "text/html": [
       "<div>\n",
       "<style>\n",
       "    .dataframe thead tr:only-child th {\n",
       "        text-align: right;\n",
       "    }\n",
       "\n",
       "    .dataframe thead th {\n",
       "        text-align: left;\n",
       "    }\n",
       "\n",
       "    .dataframe tbody tr th {\n",
       "        vertical-align: top;\n",
       "    }\n",
       "</style>\n",
       "<table border=\"1\" class=\"dataframe\">\n",
       "  <thead>\n",
       "    <tr style=\"text-align: right;\">\n",
       "      <th></th>\n",
       "      <th>day</th>\n",
       "      <th>slice_name</th>\n",
       "      <th>time</th>\n",
       "      <th>mean_health</th>\n",
       "      <th>slice_success_rate</th>\n",
       "    </tr>\n",
       "  </thead>\n",
       "  <tbody>\n",
       "    <tr>\n",
       "      <th>775</th>\n",
       "      <td>2018-02-28</td>\n",
       "      <td>Vip-IRES-Cre;Ai14-377300.03.01</td>\n",
       "      <td>13:16</td>\n",
       "      <td>2.500000</td>\n",
       "      <td>0.5</td>\n",
       "    </tr>\n",
       "    <tr>\n",
       "      <th>776</th>\n",
       "      <td>2018-02-28</td>\n",
       "      <td>Vip-IRES-Cre;Ai14-377300.03.02</td>\n",
       "      <td>13:13</td>\n",
       "      <td>2.666667</td>\n",
       "      <td>1.0</td>\n",
       "    </tr>\n",
       "    <tr>\n",
       "      <th>777</th>\n",
       "      <td>2018-02-28</td>\n",
       "      <td>Vip-IRES-Cre;Ai14-377300.04.01</td>\n",
       "      <td>14:20</td>\n",
       "      <td>3.000000</td>\n",
       "      <td>1.0</td>\n",
       "    </tr>\n",
       "    <tr>\n",
       "      <th>778</th>\n",
       "      <td>2018-02-28</td>\n",
       "      <td>Vip-IRES-Cre;Ai14-377300.04.02</td>\n",
       "      <td>13:33</td>\n",
       "      <td>3.000000</td>\n",
       "      <td>0.5</td>\n",
       "    </tr>\n",
       "    <tr>\n",
       "      <th>779</th>\n",
       "      <td>2018-02-28</td>\n",
       "      <td>Vip-IRES-Cre;Ai14-377300.05.02</td>\n",
       "      <td>14:14</td>\n",
       "      <td>1.500000</td>\n",
       "      <td>0.5</td>\n",
       "    </tr>\n",
       "  </tbody>\n",
       "</table>\n",
       "</div>"
      ],
      "text/plain": [
       "            day                      slice_name   time  mean_health  \\\n",
       "775  2018-02-28  Vip-IRES-Cre;Ai14-377300.03.01  13:16     2.500000   \n",
       "776  2018-02-28  Vip-IRES-Cre;Ai14-377300.03.02  13:13     2.666667   \n",
       "777  2018-02-28  Vip-IRES-Cre;Ai14-377300.04.01  14:20     3.000000   \n",
       "778  2018-02-28  Vip-IRES-Cre;Ai14-377300.04.02  13:33     3.000000   \n",
       "779  2018-02-28  Vip-IRES-Cre;Ai14-377300.05.02  14:14     1.500000   \n",
       "\n",
       "     slice_success_rate  \n",
       "775                 0.5  \n",
       "776                 1.0  \n",
       "777                 1.0  \n",
       "778                 0.5  \n",
       "779                 0.5  "
      ]
     },
     "execution_count": 97,
     "metadata": {},
     "output_type": "execute_result"
    }
   ],
   "source": [
    "df1 = pd.read_excel('C:\\\\Users\\\\dijonh\\\\Desktop\\\\slice_health\\\\171110_180228_ps_slicehealth_report.xlsx', sheetname=1, \n",
    "parse_cols=4)\n",
    "df1.tail()"
   ]
  },
  {
   "cell_type": "code",
   "execution_count": 101,
   "metadata": {},
   "outputs": [
    {
     "data": {
      "text/plain": [
       "[<matplotlib.lines.Line2D at 0xe3604a8>]"
      ]
     },
     "execution_count": 101,
     "metadata": {},
     "output_type": "execute_result"
    },
    {
     "data": {
      "image/png": "[encoded data removed]",
      "text/plain": [
       "<matplotlib.figure.Figure at 0xe3b1128>"
      ]
     },
     "metadata": {},
     "output_type": "display_data"
    }
   ],
   "source": [
    "plt.plot_date(df1['day'], df1['mean_health'])"
   ]
  },
  {
   "cell_type": "code",
   "execution_count": null,
   "metadata": {
    "scrolled": true
   },
   "outputs": [],
   "source": [
    "rng = pd.date_range('11/06/2011', periods=)"
   ]
  },
  {
   "cell_type": "code",
   "execution_count": null,
   "metadata": {},
   "outputs": [],
   "source": []
  }
 ],
 "metadata": {
  "kernelspec": {
   "display_name": "Python 2",
   "language": "python",
   "name": "python2"
  },
  "language_info": {
   "codemirror_mode": {
    "name": "ipython",
    "version": 2
   },
   "file_extension": ".py",
   "mimetype": "text/x-python",
   "name": "python",
   "nbconvert_exporter": "python",
   "pygments_lexer": "ipython2",
   "version": "2.7.13"
  }
 },
 "nbformat": 4,
 "nbformat_minor": 2
}
