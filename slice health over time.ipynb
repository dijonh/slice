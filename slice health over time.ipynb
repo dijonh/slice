{
 "cells": [
  {
   "cell_type": "code",
   "execution_count": 2,
   "metadata": {},
   "outputs": [],
   "source": [
    "import pandas as pd                 # dataframes (can plot)\n",
    "\n",
    "import numpy as np                  # arrays and math (can plot)\n",
    "\n",
    "import matplotlib.pyplot as plt     # general plotting library\n",
    "\n",
    "import seaborn as sns               # advanced plotting library\n",
    "\n",
    "from datetime import datetime\n",
    "import xlrd\n",
    "\n",
    "\n",
    "%matplotlib inline"
   ]
  },
  {
   "cell_type": "code",
   "execution_count": 6,
   "metadata": {
    "scrolled": true
   },
   "outputs": [
    {
     "data": {
      "text/html": [
       "<div>\n",
       "<style>\n",
       "    .dataframe thead tr:only-child th {\n",
       "        text-align: right;\n",
       "    }\n",
       "\n",
       "    .dataframe thead th {\n",
       "        text-align: left;\n",
       "    }\n",
       "\n",
       "    .dataframe tbody tr th {\n",
       "        vertical-align: top;\n",
       "    }\n",
       "</style>\n",
       "<table border=\"1\" class=\"dataframe\">\n",
       "  <thead>\n",
       "    <tr style=\"text-align: right;\">\n",
       "      <th></th>\n",
       "      <th>prep_name</th>\n",
       "      <th>first_time</th>\n",
       "      <th>last_time</th>\n",
       "      <th>mean_health</th>\n",
       "      <th>slice_success_rate</th>\n",
       "      <th>wov_fraction</th>\n",
       "      <th>uneven_fraction</th>\n",
       "      <th>damaged_fraction</th>\n",
       "      <th>attempt_count</th>\n",
       "      <th>user</th>\n",
       "      <th>rig</th>\n",
       "      <th>acsf_date</th>\n",
       "      <th>slice_name</th>\n",
       "    </tr>\n",
       "    <tr>\n",
       "      <th>day</th>\n",
       "      <th></th>\n",
       "      <th></th>\n",
       "      <th></th>\n",
       "      <th></th>\n",
       "      <th></th>\n",
       "      <th></th>\n",
       "      <th></th>\n",
       "      <th></th>\n",
       "      <th></th>\n",
       "      <th></th>\n",
       "      <th></th>\n",
       "      <th></th>\n",
       "      <th></th>\n",
       "    </tr>\n",
       "  </thead>\n",
       "  <tbody>\n",
       "    <tr>\n",
       "      <th>2018-02-28</th>\n",
       "      <td>376205</td>\n",
       "      <td>09:44</td>\n",
       "      <td>10:50</td>\n",
       "      <td>2.333333</td>\n",
       "      <td>0.666667</td>\n",
       "      <td>0.666667</td>\n",
       "      <td>0.0</td>\n",
       "      <td>0.166667</td>\n",
       "      <td>11</td>\n",
       "      <td>lisak, dijonh, lindsayn, rustym, ramr</td>\n",
       "      <td>1, 3, 2, 4, 7, 6</td>\n",
       "      <td>2018-02-27, 2018-02-26</td>\n",
       "      <td>Sst-IRES-Cre;Ai14-376205.03.02, Sst-IRES-Cre;A...</td>\n",
       "    </tr>\n",
       "    <tr>\n",
       "      <th>2018-02-28</th>\n",
       "      <td>377316</td>\n",
       "      <td>10:26</td>\n",
       "      <td>12:28</td>\n",
       "      <td>2.266667</td>\n",
       "      <td>0.750000</td>\n",
       "      <td>0.333333</td>\n",
       "      <td>0.0</td>\n",
       "      <td>0.000000</td>\n",
       "      <td>16</td>\n",
       "      <td>kristenh, lisak, rustym, lindsayn, ramr</td>\n",
       "      <td>1, 2, 4, 7, 6</td>\n",
       "      <td>2018-02-27, 2018-02-26</td>\n",
       "      <td>Ndnf-IRES2-dgCre;Ai14-377316.05.01, Ndnf-IRES2...</td>\n",
       "    </tr>\n",
       "    <tr>\n",
       "      <th>2018-02-28</th>\n",
       "      <td>377300</td>\n",
       "      <td>13:13</td>\n",
       "      <td>14:20</td>\n",
       "      <td>2.533333</td>\n",
       "      <td>0.700000</td>\n",
       "      <td>0.800000</td>\n",
       "      <td>0.0</td>\n",
       "      <td>0.000000</td>\n",
       "      <td>10</td>\n",
       "      <td>lisak, dijonh, ramr, lindsayn</td>\n",
       "      <td>1, 3, 7, 6</td>\n",
       "      <td>2018-02-28, 2018-02-27</td>\n",
       "      <td>Vip-IRES-Cre;Ai14-377300.04.01, Vip-IRES-Cre;A...</td>\n",
       "    </tr>\n",
       "    <tr>\n",
       "      <th>2018-02-28</th>\n",
       "      <td>376996</td>\n",
       "      <td>15:01</td>\n",
       "      <td>15:14</td>\n",
       "      <td>2.333333</td>\n",
       "      <td>0.500000</td>\n",
       "      <td>1.000000</td>\n",
       "      <td>0.0</td>\n",
       "      <td>0.000000</td>\n",
       "      <td>6</td>\n",
       "      <td>dijonh, rustym</td>\n",
       "      <td>3, 4</td>\n",
       "      <td>2018-02-27, 2018-02-26</td>\n",
       "      <td>Slc17a6-IRES-Cre;Ai14-376996.04.01, Slc17a6-IR...</td>\n",
       "    </tr>\n",
       "    <tr>\n",
       "      <th>2018-02-28</th>\n",
       "      <td>378475</td>\n",
       "      <td>17:11</td>\n",
       "      <td>17:11</td>\n",
       "      <td>4.000000</td>\n",
       "      <td>1.000000</td>\n",
       "      <td>0.000000</td>\n",
       "      <td>0.0</td>\n",
       "      <td>0.000000</td>\n",
       "      <td>1</td>\n",
       "      <td>dijonh</td>\n",
       "      <td>3</td>\n",
       "      <td>2018-02-27</td>\n",
       "      <td>Ndnf-IRES2-dgCre;Ai14-378475.04.02</td>\n",
       "    </tr>\n",
       "  </tbody>\n",
       "</table>\n",
       "</div>"
      ],
      "text/plain": [
       "           prep_name first_time last_time  mean_health  slice_success_rate  \\\n",
       "day                                                                          \n",
       "2018-02-28    376205      09:44     10:50     2.333333            0.666667   \n",
       "2018-02-28    377316      10:26     12:28     2.266667            0.750000   \n",
       "2018-02-28    377300      13:13     14:20     2.533333            0.700000   \n",
       "2018-02-28    376996      15:01     15:14     2.333333            0.500000   \n",
       "2018-02-28    378475      17:11     17:11     4.000000            1.000000   \n",
       "\n",
       "            wov_fraction  uneven_fraction  damaged_fraction  attempt_count  \\\n",
       "day                                                                          \n",
       "2018-02-28      0.666667              0.0          0.166667             11   \n",
       "2018-02-28      0.333333              0.0          0.000000             16   \n",
       "2018-02-28      0.800000              0.0          0.000000             10   \n",
       "2018-02-28      1.000000              0.0          0.000000              6   \n",
       "2018-02-28      0.000000              0.0          0.000000              1   \n",
       "\n",
       "                                               user               rig  \\\n",
       "day                                                                     \n",
       "2018-02-28    lisak, dijonh, lindsayn, rustym, ramr  1, 3, 2, 4, 7, 6   \n",
       "2018-02-28  kristenh, lisak, rustym, lindsayn, ramr     1, 2, 4, 7, 6   \n",
       "2018-02-28            lisak, dijonh, ramr, lindsayn        1, 3, 7, 6   \n",
       "2018-02-28                           dijonh, rustym              3, 4   \n",
       "2018-02-28                                   dijonh                 3   \n",
       "\n",
       "                         acsf_date  \\\n",
       "day                                  \n",
       "2018-02-28  2018-02-27, 2018-02-26   \n",
       "2018-02-28  2018-02-27, 2018-02-26   \n",
       "2018-02-28  2018-02-28, 2018-02-27   \n",
       "2018-02-28  2018-02-27, 2018-02-26   \n",
       "2018-02-28              2018-02-27   \n",
       "\n",
       "                                                   slice_name  \n",
       "day                                                            \n",
       "2018-02-28  Sst-IRES-Cre;Ai14-376205.03.02, Sst-IRES-Cre;A...  \n",
       "2018-02-28  Ndnf-IRES2-dgCre;Ai14-377316.05.01, Ndnf-IRES2...  \n",
       "2018-02-28  Vip-IRES-Cre;Ai14-377300.04.01, Vip-IRES-Cre;A...  \n",
       "2018-02-28  Slc17a6-IRES-Cre;Ai14-376996.04.01, Slc17a6-IR...  \n",
       "2018-02-28                 Ndnf-IRES2-dgCre;Ai14-378475.04.02  "
      ]
     },
     "execution_count": 6,
     "metadata": {},
     "output_type": "execute_result"
    }
   ],
   "source": [
    "df = pd.read_excel('C:\\\\Users\\\\dijonh\\\\Desktop\\\\slice_health\\\\171110_180228_ps_slicehealth_report.xlsx', sheetname=0, index_col=0)\n",
    "df.tail()"
   ]
  },
  {
   "cell_type": "code",
   "execution_count": 50,
   "metadata": {},
   "outputs": [
    {
     "data": {
      "text/plain": [
       "(217, 14)"
      ]
     },
     "execution_count": 50,
     "metadata": {},
     "output_type": "execute_result"
    }
   ],
   "source": [
    "df.shape"
   ]
  },
  {
   "cell_type": "code",
   "execution_count": 93,
   "metadata": {
    "scrolled": true
   },
   "outputs": [
    {
     "name": "stdout",
     "output_type": "stream",
     "text": [
      "Current size [6.0, 4.0]\n"
     ]
    },
    {
     "data": {
      "image/png": "[encoded data removed]",
      "text/plain": [
       "<matplotlib.figure.Figure at 0xd691eb8>"
      ]
     },
     "metadata": {},
     "output_type": "display_data"
    }
   ],
   "source": [
    "plt.plot_date(df['day'], df['mean_health'])\n",
    "plt.title(\"Prep summary\")\n",
    "plt.xlabel(\"Day\")\n",
    "plt.xticks(rotation=20)\n",
    "marker_size=20\n",
    "\n",
    "#change size\n",
    "fig_size = plt.rcParams[\"figure.figsize\"]\n",
    "print \"Current size\", fig_size\n",
    "fig_size[0] = 6\n",
    "fig_size[1] = 4\n",
    "plt.rcParams[\"figure.figsize\"] = fig_size"
   ]
  },
  {
   "cell_type": "code",
   "execution_count": 5,
   "metadata": {
    "scrolled": true
   },
   "outputs": [
    {
     "data": {
      "text/html": [
       "<div>\n",
       "<style>\n",
       "    .dataframe thead tr:only-child th {\n",
       "        text-align: right;\n",
       "    }\n",
       "\n",
       "    .dataframe thead th {\n",
       "        text-align: left;\n",
       "    }\n",
       "\n",
       "    .dataframe tbody tr th {\n",
       "        vertical-align: top;\n",
       "    }\n",
       "</style>\n",
       "<table border=\"1\" class=\"dataframe\">\n",
       "  <thead>\n",
       "    <tr style=\"text-align: right;\">\n",
       "      <th></th>\n",
       "      <th>slice_name</th>\n",
       "      <th>time</th>\n",
       "      <th>mean_health</th>\n",
       "      <th>slice_success_rate</th>\n",
       "      <th>slice_quality</th>\n",
       "      <th>attempt_count</th>\n",
       "      <th>user</th>\n",
       "      <th>rig</th>\n",
       "      <th>acsf_date</th>\n",
       "    </tr>\n",
       "    <tr>\n",
       "      <th>day</th>\n",
       "      <th></th>\n",
       "      <th></th>\n",
       "      <th></th>\n",
       "      <th></th>\n",
       "      <th></th>\n",
       "      <th></th>\n",
       "      <th></th>\n",
       "      <th></th>\n",
       "      <th></th>\n",
       "    </tr>\n",
       "  </thead>\n",
       "  <tbody>\n",
       "    <tr>\n",
       "      <th>2018-02-28</th>\n",
       "      <td>Vip-IRES-Cre;Ai14-377300.03.01</td>\n",
       "      <td>13:16</td>\n",
       "      <td>2.500000</td>\n",
       "      <td>0.5</td>\n",
       "      <td>'Wave of Death'</td>\n",
       "      <td>2</td>\n",
       "      <td>lisak</td>\n",
       "      <td>7</td>\n",
       "      <td>2018-02-27</td>\n",
       "    </tr>\n",
       "    <tr>\n",
       "      <th>2018-02-28</th>\n",
       "      <td>Vip-IRES-Cre;Ai14-377300.03.02</td>\n",
       "      <td>13:13</td>\n",
       "      <td>2.666667</td>\n",
       "      <td>1.0</td>\n",
       "      <td>'Wave of Death'</td>\n",
       "      <td>3</td>\n",
       "      <td>lindsayn</td>\n",
       "      <td>6</td>\n",
       "      <td>2018-02-27</td>\n",
       "    </tr>\n",
       "    <tr>\n",
       "      <th>2018-02-28</th>\n",
       "      <td>Vip-IRES-Cre;Ai14-377300.04.01</td>\n",
       "      <td>14:20</td>\n",
       "      <td>3.000000</td>\n",
       "      <td>1.0</td>\n",
       "      <td>Good</td>\n",
       "      <td>1</td>\n",
       "      <td>lisak</td>\n",
       "      <td>7</td>\n",
       "      <td>2018-02-27</td>\n",
       "    </tr>\n",
       "    <tr>\n",
       "      <th>2018-02-28</th>\n",
       "      <td>Vip-IRES-Cre;Ai14-377300.04.02</td>\n",
       "      <td>13:33</td>\n",
       "      <td>3.000000</td>\n",
       "      <td>0.5</td>\n",
       "      <td>'Wave of Death'</td>\n",
       "      <td>2</td>\n",
       "      <td>dijonh</td>\n",
       "      <td>3</td>\n",
       "      <td>2018-02-28</td>\n",
       "    </tr>\n",
       "    <tr>\n",
       "      <th>2018-02-28</th>\n",
       "      <td>Vip-IRES-Cre;Ai14-377300.05.02</td>\n",
       "      <td>14:14</td>\n",
       "      <td>1.500000</td>\n",
       "      <td>0.5</td>\n",
       "      <td>Good,'Wave of Death'</td>\n",
       "      <td>2</td>\n",
       "      <td>ramr</td>\n",
       "      <td>1</td>\n",
       "      <td>2018-02-27</td>\n",
       "    </tr>\n",
       "  </tbody>\n",
       "</table>\n",
       "</div>"
      ],
      "text/plain": [
       "                                slice_name   time  mean_health  \\\n",
       "day                                                              \n",
       "2018-02-28  Vip-IRES-Cre;Ai14-377300.03.01  13:16     2.500000   \n",
       "2018-02-28  Vip-IRES-Cre;Ai14-377300.03.02  13:13     2.666667   \n",
       "2018-02-28  Vip-IRES-Cre;Ai14-377300.04.01  14:20     3.000000   \n",
       "2018-02-28  Vip-IRES-Cre;Ai14-377300.04.02  13:33     3.000000   \n",
       "2018-02-28  Vip-IRES-Cre;Ai14-377300.05.02  14:14     1.500000   \n",
       "\n",
       "            slice_success_rate         slice_quality  attempt_count      user  \\\n",
       "day                                                                             \n",
       "2018-02-28                 0.5       'Wave of Death'              2     lisak   \n",
       "2018-02-28                 1.0       'Wave of Death'              3  lindsayn   \n",
       "2018-02-28                 1.0                  Good              1     lisak   \n",
       "2018-02-28                 0.5       'Wave of Death'              2    dijonh   \n",
       "2018-02-28                 0.5  Good,'Wave of Death'              2      ramr   \n",
       "\n",
       "           rig   acsf_date  \n",
       "day                         \n",
       "2018-02-28   7  2018-02-27  \n",
       "2018-02-28   6  2018-02-27  \n",
       "2018-02-28   7  2018-02-27  \n",
       "2018-02-28   3  2018-02-28  \n",
       "2018-02-28   1  2018-02-27  "
      ]
     },
     "execution_count": 5,
     "metadata": {},
     "output_type": "execute_result"
    }
   ],
   "source": [
    "df1 = pd.read_excel('C:\\\\Users\\\\dijonh\\\\Desktop\\\\slice_health\\\\171110_180228_ps_slicehealth_report.xlsx', sheetname=1, index_col=0)\n",
    "df1.tail()"
   ]
  },
  {
   "cell_type": "code",
   "execution_count": 8,
   "metadata": {},
   "outputs": [
    {
     "data": {
      "text/plain": [
       "(780, 9)"
      ]
     },
     "execution_count": 8,
     "metadata": {},
     "output_type": "execute_result"
    }
   ],
   "source": [
    "df1.shape"
   ]
  },
  {
   "cell_type": "code",
   "execution_count": 11,
   "metadata": {
    "scrolled": true
   },
   "outputs": [],
   "source": [
    "df2 = pd.concat([df, df1])"
   ]
  },
  {
   "cell_type": "code",
   "execution_count": 12,
   "metadata": {},
   "outputs": [
    {
     "data": {
      "text/plain": [
       "(997, 15)"
      ]
     },
     "execution_count": 12,
     "metadata": {},
     "output_type": "execute_result"
    }
   ],
   "source": [
    "df2.shape"
   ]
  },
  {
   "cell_type": "code",
   "execution_count": null,
   "metadata": {},
   "outputs": [],
   "source": [
    "xlsx = pd.Excelfile()"
   ]
  },
  {
   "cell_type": "code",
   "execution_count": null,
   "metadata": {
    "scrolled": true
   },
   "outputs": [],
   "source": [
    "rng = pd.date_range('11/06/2011', periods=)"
   ]
  }
 ],
 "metadata": {
  "kernelspec": {
   "display_name": "Python 2",
   "language": "python",
   "name": "python2"
  },
  "language_info": {
   "codemirror_mode": {
    "name": "ipython",
    "version": 2
   },
   "file_extension": ".py",
   "mimetype": "text/x-python",
   "name": "python",
   "nbconvert_exporter": "python",
   "pygments_lexer": "ipython2",
   "version": "2.7.13"
  }
 },
 "nbformat": 4,
 "nbformat_minor": 2
}
